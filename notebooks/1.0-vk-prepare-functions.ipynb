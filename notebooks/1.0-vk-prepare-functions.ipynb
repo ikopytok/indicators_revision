{
 "cells": [
  {
   "cell_type": "code",
   "execution_count": 45,
   "outputs": [],
   "source": [
    "import pandas as pd\n",
    "import numpy as np\n",
    "import os\n",
    "import matplotlib.pyplot as plt"
   ],
   "metadata": {
    "collapsed": false,
    "pycharm": {
     "name": "#%%\n"
    }
   }
  },
  {
   "cell_type": "code",
   "execution_count": 2,
   "outputs": [],
   "source": [
    "os.chdir('D:/coding/0_be_precise/indicators_revision/data/raw/')"
   ],
   "metadata": {
    "collapsed": false,
    "pycharm": {
     "name": "#%%\n"
    }
   }
  },
  {
   "cell_type": "code",
   "execution_count": 165,
   "outputs": [],
   "source": [
    "data = pd.read_csv('AWAGE.csv', sep=',')"
   ],
   "metadata": {
    "collapsed": false,
    "pycharm": {
     "name": "#%%\n"
    }
   }
  },
  {
   "cell_type": "code",
   "execution_count": 153,
   "outputs": [
    {
     "data": {
      "text/plain": "        DAT 2017-01 2017-02 2017-03 2017-04 2017-05 2017-06 2017-07 2017-08  \\\n0   2015-03    99,9    99,9    99,9    99,9    99,9    99,9    99,9    99,9   \n1   2015-06    98,3    98,3    98,3    98,3    98,3    98,3    98,3    98,3   \n2   2015-09    99,5    99,5    99,5    99,5    99,5    99,5    99,5    99,5   \n3   2015-12    99,1    99,1    99,1    99,1    99,1    99,1    99,1    99,1   \n4   2016-03   101,1   101,1   101,1   101,1   101,1   101,1   101,1   101,1   \n5   2016-06   101,5   101,5   101,5   101,5   101,5   101,5   101,5   101,5   \n6   2016-09     101     101     101     101     101     101     101     101   \n7   2016-12   101,7   101,7   101,7   101,7   101,7   101,7   101,7   101,7   \n8   2017-03     NaN     NaN   100,1   100,1   100,1   100,1   100,1   100,1   \n9   2017-06     NaN     NaN     NaN     NaN     NaN   103,8   103,8   103,8   \n10  2017-09     NaN     NaN     NaN     NaN     NaN     NaN     NaN     NaN   \n11  2017-12     NaN     NaN     NaN     NaN     NaN     NaN     NaN     NaN   \n12  2018-03     NaN     NaN     NaN     NaN     NaN     NaN     NaN     NaN   \n13  2018-06     NaN     NaN     NaN     NaN     NaN     NaN     NaN     NaN   \n14  2018-09     NaN     NaN     NaN     NaN     NaN     NaN     NaN     NaN   \n15  2018-12     NaN     NaN     NaN     NaN     NaN     NaN     NaN     NaN   \n16  2019-03     NaN     NaN     NaN     NaN     NaN     NaN     NaN     NaN   \n17  2019-06     NaN     NaN     NaN     NaN     NaN     NaN     NaN     NaN   \n18  2019-09     NaN     NaN     NaN     NaN     NaN     NaN     NaN     NaN   \n19  2019-12     NaN     NaN     NaN     NaN     NaN     NaN     NaN     NaN   \n20  2020-03     NaN     NaN     NaN     NaN     NaN     NaN     NaN     NaN   \n21  2020-06     NaN     NaN     NaN     NaN     NaN     NaN     NaN     NaN   \n22  2020-09     NaN     NaN     NaN     NaN     NaN     NaN     NaN     NaN   \n23  2020-12     NaN     NaN     NaN     NaN     NaN     NaN     NaN     NaN   \n24  2021-03     NaN     NaN     NaN     NaN     NaN     NaN     NaN     NaN   \n25  2021-06     NaN     NaN     NaN     NaN     NaN     NaN     NaN     NaN   \n26  2021-09     NaN     NaN     NaN     NaN     NaN     NaN     NaN     NaN   \n27  2021-12     NaN     NaN     NaN     NaN     NaN     NaN     NaN     NaN   \n28  2022-03     NaN     NaN     NaN     NaN     NaN     NaN     NaN     NaN   \n29  2022-06     NaN     NaN     NaN     NaN     NaN     NaN     NaN     NaN   \n30  2022-09     NaN     NaN     NaN     NaN     NaN     NaN     NaN     NaN   \n31  2022-12     NaN     NaN     NaN     NaN     NaN     NaN     NaN     NaN   \n32  2023-03     NaN     NaN     NaN     NaN     NaN     NaN     NaN     NaN   \n33  2023-06     NaN     NaN     NaN     NaN     NaN     NaN     NaN     NaN   \n\n   2017-09  ... 2022-10 2022-11 2022-12 2023-01 2023-02 2023-03 2023-04  \\\n0     99,9  ...     101     101     101     101     101     101     101   \n1     98,3  ...    99,5    99,5    99,5    99,5    99,5    99,5    99,5   \n2     99,5  ...   100,5   100,5   100,5   100,5   100,5   100,5   100,5   \n3     99,1  ...     100     100     100     100     100     100     100   \n4    101,1  ...   100,7   100,7   100,7   100,7   100,7   100,7   100,7   \n5    101,5  ...   100,5   100,5   100,5   100,5   100,5   100,5   100,5   \n6      101  ...   101,7   101,7   101,7   101,7   101,7   101,7   101,7   \n7    101,7  ...   104,1   104,1   104,1   104,1   104,1   104,1   104,1   \n8    100,1  ...   103,9   103,9   103,9   103,9   103,9   103,9   103,9   \n9    103,8  ...   105,4   105,4   105,4   105,4   105,4   105,4   105,4   \n10   101,4  ...   104,6   104,6   104,6   104,6   104,6   104,6   104,6   \n11     NaN  ...   101,2   101,2   101,2   101,2   101,2   101,2   101,2   \n12     NaN  ...   102,9   102,9   102,9   102,9   102,9   102,9   102,9   \n13     NaN  ...   102,9   102,9   102,9   102,9   102,9   102,9   102,9   \n14     NaN  ...   102,9   102,9   102,9   102,9   102,9   102,9   102,9   \n15     NaN  ...   105,4   105,4   105,4   105,4   105,4   105,4   105,4   \n16     NaN  ...   103,2   103,2   103,2   103,2   103,2   103,2   103,2   \n17     NaN  ...   103,2   103,2   103,2   103,2   103,2   103,2   103,2   \n18     NaN  ...   104,4   104,4   104,4   104,4   104,4   104,4   104,4   \n19     NaN  ...   102,8   102,8   102,8   102,8   102,8   102,8   102,8   \n20     NaN  ...   103,2   103,2   103,2   103,2   103,2   103,2   103,2   \n21     NaN  ...    93,8    93,8    93,8    93,8    93,8    93,8    93,8   \n22     NaN  ...    95,7    95,7    95,7    95,7    95,7    95,7    95,7   \n23     NaN  ...    99,2    99,2    99,2    99,2    99,2    99,2    99,2   \n24     NaN  ...    99,7    99,7    99,5    99,5    99,5    99,5    99,5   \n25     NaN  ...   111,1   111,1   110,9   110,9   110,9   110,9   110,9   \n26     NaN  ...   107,1   107,1     107     107     107     107     107   \n27     NaN  ...   107,9   107,9   107,9   107,9   107,9   107,9   107,9   \n28     NaN  ...   105,1   105,1   105,1   105,1   105,1   105,1   105,1   \n29     NaN  ...    97,5    97,5    97,4    97,4    97,4    97,4    97,4   \n30     NaN  ...    98,7    98,7    98,8    98,8    98,8    98,8    98,8   \n31     NaN  ...     NaN     NaN      97      97      97      97      97   \n32     NaN  ...     NaN     NaN     NaN     NaN     NaN    99,1    99,1   \n33     NaN  ...     NaN     NaN     NaN     NaN     NaN     NaN     NaN   \n\n   2023-05 2023-06 2023-07  \n0      101     101     101  \n1     99,5    99,5    99,5  \n2    100,5   100,5   100,5  \n3      100     100     100  \n4    100,7   100,7   100,7  \n5    100,5   100,5   100,5  \n6    101,7   101,7   101,7  \n7    104,1   104,1   104,1  \n8    103,9   103,9   103,9  \n9    105,4   105,4   105,4  \n10   104,6   104,6   104,6  \n11   101,2   101,2   101,2  \n12   102,9   102,9   102,9  \n13   102,9   102,9   102,9  \n14   102,9   102,9   102,9  \n15   105,4   105,4   105,4  \n16   103,2   103,2   103,2  \n17   103,2   103,2   103,2  \n18   104,4   104,4   104,4  \n19   102,8   102,8   102,8  \n20   103,2   103,2   103,2  \n21    93,8    93,8    93,8  \n22    95,7    95,7    95,7  \n23    99,2    99,2    99,2  \n24    99,5    99,5    99,5  \n25   110,9   110,9   110,9  \n26     107     107     107  \n27   107,9   107,9   107,9  \n28   105,1   105,1   106,2  \n29    97,4    97,4    98,5  \n30    98,8    98,8    99,7  \n31      97      97    98,6  \n32    99,1    99,1    98,8  \n33     NaN   106,3   105,8  \n\n[34 rows x 80 columns]",
      "text/html": "<div>\n<style scoped>\n    .dataframe tbody tr th:only-of-type {\n        vertical-align: middle;\n    }\n\n    .dataframe tbody tr th {\n        vertical-align: top;\n    }\n\n    .dataframe thead th {\n        text-align: right;\n    }\n</style>\n<table border=\"1\" class=\"dataframe\">\n  <thead>\n    <tr style=\"text-align: right;\">\n      <th></th>\n      <th>DAT</th>\n      <th>2017-01</th>\n      <th>2017-02</th>\n      <th>2017-03</th>\n      <th>2017-04</th>\n      <th>2017-05</th>\n      <th>2017-06</th>\n      <th>2017-07</th>\n      <th>2017-08</th>\n      <th>2017-09</th>\n      <th>...</th>\n      <th>2022-10</th>\n      <th>2022-11</th>\n      <th>2022-12</th>\n      <th>2023-01</th>\n      <th>2023-02</th>\n      <th>2023-03</th>\n      <th>2023-04</th>\n      <th>2023-05</th>\n      <th>2023-06</th>\n      <th>2023-07</th>\n    </tr>\n  </thead>\n  <tbody>\n    <tr>\n      <th>0</th>\n      <td>2015-03</td>\n      <td>99,9</td>\n      <td>99,9</td>\n      <td>99,9</td>\n      <td>99,9</td>\n      <td>99,9</td>\n      <td>99,9</td>\n      <td>99,9</td>\n      <td>99,9</td>\n      <td>99,9</td>\n      <td>...</td>\n      <td>101</td>\n      <td>101</td>\n      <td>101</td>\n      <td>101</td>\n      <td>101</td>\n      <td>101</td>\n      <td>101</td>\n      <td>101</td>\n      <td>101</td>\n      <td>101</td>\n    </tr>\n    <tr>\n      <th>1</th>\n      <td>2015-06</td>\n      <td>98,3</td>\n      <td>98,3</td>\n      <td>98,3</td>\n      <td>98,3</td>\n      <td>98,3</td>\n      <td>98,3</td>\n      <td>98,3</td>\n      <td>98,3</td>\n      <td>98,3</td>\n      <td>...</td>\n      <td>99,5</td>\n      <td>99,5</td>\n      <td>99,5</td>\n      <td>99,5</td>\n      <td>99,5</td>\n      <td>99,5</td>\n      <td>99,5</td>\n      <td>99,5</td>\n      <td>99,5</td>\n      <td>99,5</td>\n    </tr>\n    <tr>\n      <th>2</th>\n      <td>2015-09</td>\n      <td>99,5</td>\n      <td>99,5</td>\n      <td>99,5</td>\n      <td>99,5</td>\n      <td>99,5</td>\n      <td>99,5</td>\n      <td>99,5</td>\n      <td>99,5</td>\n      <td>99,5</td>\n      <td>...</td>\n      <td>100,5</td>\n      <td>100,5</td>\n      <td>100,5</td>\n      <td>100,5</td>\n      <td>100,5</td>\n      <td>100,5</td>\n      <td>100,5</td>\n      <td>100,5</td>\n      <td>100,5</td>\n      <td>100,5</td>\n    </tr>\n    <tr>\n      <th>3</th>\n      <td>2015-12</td>\n      <td>99,1</td>\n      <td>99,1</td>\n      <td>99,1</td>\n      <td>99,1</td>\n      <td>99,1</td>\n      <td>99,1</td>\n      <td>99,1</td>\n      <td>99,1</td>\n      <td>99,1</td>\n      <td>...</td>\n      <td>100</td>\n      <td>100</td>\n      <td>100</td>\n      <td>100</td>\n      <td>100</td>\n      <td>100</td>\n      <td>100</td>\n      <td>100</td>\n      <td>100</td>\n      <td>100</td>\n    </tr>\n    <tr>\n      <th>4</th>\n      <td>2016-03</td>\n      <td>101,1</td>\n      <td>101,1</td>\n      <td>101,1</td>\n      <td>101,1</td>\n      <td>101,1</td>\n      <td>101,1</td>\n      <td>101,1</td>\n      <td>101,1</td>\n      <td>101,1</td>\n      <td>...</td>\n      <td>100,7</td>\n      <td>100,7</td>\n      <td>100,7</td>\n      <td>100,7</td>\n      <td>100,7</td>\n      <td>100,7</td>\n      <td>100,7</td>\n      <td>100,7</td>\n      <td>100,7</td>\n      <td>100,7</td>\n    </tr>\n    <tr>\n      <th>5</th>\n      <td>2016-06</td>\n      <td>101,5</td>\n      <td>101,5</td>\n      <td>101,5</td>\n      <td>101,5</td>\n      <td>101,5</td>\n      <td>101,5</td>\n      <td>101,5</td>\n      <td>101,5</td>\n      <td>101,5</td>\n      <td>...</td>\n      <td>100,5</td>\n      <td>100,5</td>\n      <td>100,5</td>\n      <td>100,5</td>\n      <td>100,5</td>\n      <td>100,5</td>\n      <td>100,5</td>\n      <td>100,5</td>\n      <td>100,5</td>\n      <td>100,5</td>\n    </tr>\n    <tr>\n      <th>6</th>\n      <td>2016-09</td>\n      <td>101</td>\n      <td>101</td>\n      <td>101</td>\n      <td>101</td>\n      <td>101</td>\n      <td>101</td>\n      <td>101</td>\n      <td>101</td>\n      <td>101</td>\n      <td>...</td>\n      <td>101,7</td>\n      <td>101,7</td>\n      <td>101,7</td>\n      <td>101,7</td>\n      <td>101,7</td>\n      <td>101,7</td>\n      <td>101,7</td>\n      <td>101,7</td>\n      <td>101,7</td>\n      <td>101,7</td>\n    </tr>\n    <tr>\n      <th>7</th>\n      <td>2016-12</td>\n      <td>101,7</td>\n      <td>101,7</td>\n      <td>101,7</td>\n      <td>101,7</td>\n      <td>101,7</td>\n      <td>101,7</td>\n      <td>101,7</td>\n      <td>101,7</td>\n      <td>101,7</td>\n      <td>...</td>\n      <td>104,1</td>\n      <td>104,1</td>\n      <td>104,1</td>\n      <td>104,1</td>\n      <td>104,1</td>\n      <td>104,1</td>\n      <td>104,1</td>\n      <td>104,1</td>\n      <td>104,1</td>\n      <td>104,1</td>\n    </tr>\n    <tr>\n      <th>8</th>\n      <td>2017-03</td>\n      <td>NaN</td>\n      <td>NaN</td>\n      <td>100,1</td>\n      <td>100,1</td>\n      <td>100,1</td>\n      <td>100,1</td>\n      <td>100,1</td>\n      <td>100,1</td>\n      <td>100,1</td>\n      <td>...</td>\n      <td>103,9</td>\n      <td>103,9</td>\n      <td>103,9</td>\n      <td>103,9</td>\n      <td>103,9</td>\n      <td>103,9</td>\n      <td>103,9</td>\n      <td>103,9</td>\n      <td>103,9</td>\n      <td>103,9</td>\n    </tr>\n    <tr>\n      <th>9</th>\n      <td>2017-06</td>\n      <td>NaN</td>\n      <td>NaN</td>\n      <td>NaN</td>\n      <td>NaN</td>\n      <td>NaN</td>\n      <td>103,8</td>\n      <td>103,8</td>\n      <td>103,8</td>\n      <td>103,8</td>\n      <td>...</td>\n      <td>105,4</td>\n      <td>105,4</td>\n      <td>105,4</td>\n      <td>105,4</td>\n      <td>105,4</td>\n      <td>105,4</td>\n      <td>105,4</td>\n      <td>105,4</td>\n      <td>105,4</td>\n      <td>105,4</td>\n    </tr>\n    <tr>\n      <th>10</th>\n      <td>2017-09</td>\n      <td>NaN</td>\n      <td>NaN</td>\n      <td>NaN</td>\n      <td>NaN</td>\n      <td>NaN</td>\n      <td>NaN</td>\n      <td>NaN</td>\n      <td>NaN</td>\n      <td>101,4</td>\n      <td>...</td>\n      <td>104,6</td>\n      <td>104,6</td>\n      <td>104,6</td>\n      <td>104,6</td>\n      <td>104,6</td>\n      <td>104,6</td>\n      <td>104,6</td>\n      <td>104,6</td>\n      <td>104,6</td>\n      <td>104,6</td>\n    </tr>\n    <tr>\n      <th>11</th>\n      <td>2017-12</td>\n      <td>NaN</td>\n      <td>NaN</td>\n      <td>NaN</td>\n      <td>NaN</td>\n      <td>NaN</td>\n      <td>NaN</td>\n      <td>NaN</td>\n      <td>NaN</td>\n      <td>NaN</td>\n      <td>...</td>\n      <td>101,2</td>\n      <td>101,2</td>\n      <td>101,2</td>\n      <td>101,2</td>\n      <td>101,2</td>\n      <td>101,2</td>\n      <td>101,2</td>\n      <td>101,2</td>\n      <td>101,2</td>\n      <td>101,2</td>\n    </tr>\n    <tr>\n      <th>12</th>\n      <td>2018-03</td>\n      <td>NaN</td>\n      <td>NaN</td>\n      <td>NaN</td>\n      <td>NaN</td>\n      <td>NaN</td>\n      <td>NaN</td>\n      <td>NaN</td>\n      <td>NaN</td>\n      <td>NaN</td>\n      <td>...</td>\n      <td>102,9</td>\n      <td>102,9</td>\n      <td>102,9</td>\n      <td>102,9</td>\n      <td>102,9</td>\n      <td>102,9</td>\n      <td>102,9</td>\n      <td>102,9</td>\n      <td>102,9</td>\n      <td>102,9</td>\n    </tr>\n    <tr>\n      <th>13</th>\n      <td>2018-06</td>\n      <td>NaN</td>\n      <td>NaN</td>\n      <td>NaN</td>\n      <td>NaN</td>\n      <td>NaN</td>\n      <td>NaN</td>\n      <td>NaN</td>\n      <td>NaN</td>\n      <td>NaN</td>\n      <td>...</td>\n      <td>102,9</td>\n      <td>102,9</td>\n      <td>102,9</td>\n      <td>102,9</td>\n      <td>102,9</td>\n      <td>102,9</td>\n      <td>102,9</td>\n      <td>102,9</td>\n      <td>102,9</td>\n      <td>102,9</td>\n    </tr>\n    <tr>\n      <th>14</th>\n      <td>2018-09</td>\n      <td>NaN</td>\n      <td>NaN</td>\n      <td>NaN</td>\n      <td>NaN</td>\n      <td>NaN</td>\n      <td>NaN</td>\n      <td>NaN</td>\n      <td>NaN</td>\n      <td>NaN</td>\n      <td>...</td>\n      <td>102,9</td>\n      <td>102,9</td>\n      <td>102,9</td>\n      <td>102,9</td>\n      <td>102,9</td>\n      <td>102,9</td>\n      <td>102,9</td>\n      <td>102,9</td>\n      <td>102,9</td>\n      <td>102,9</td>\n    </tr>\n    <tr>\n      <th>15</th>\n      <td>2018-12</td>\n      <td>NaN</td>\n      <td>NaN</td>\n      <td>NaN</td>\n      <td>NaN</td>\n      <td>NaN</td>\n      <td>NaN</td>\n      <td>NaN</td>\n      <td>NaN</td>\n      <td>NaN</td>\n      <td>...</td>\n      <td>105,4</td>\n      <td>105,4</td>\n      <td>105,4</td>\n      <td>105,4</td>\n      <td>105,4</td>\n      <td>105,4</td>\n      <td>105,4</td>\n      <td>105,4</td>\n      <td>105,4</td>\n      <td>105,4</td>\n    </tr>\n    <tr>\n      <th>16</th>\n      <td>2019-03</td>\n      <td>NaN</td>\n      <td>NaN</td>\n      <td>NaN</td>\n      <td>NaN</td>\n      <td>NaN</td>\n      <td>NaN</td>\n      <td>NaN</td>\n      <td>NaN</td>\n      <td>NaN</td>\n      <td>...</td>\n      <td>103,2</td>\n      <td>103,2</td>\n      <td>103,2</td>\n      <td>103,2</td>\n      <td>103,2</td>\n      <td>103,2</td>\n      <td>103,2</td>\n      <td>103,2</td>\n      <td>103,2</td>\n      <td>103,2</td>\n    </tr>\n    <tr>\n      <th>17</th>\n      <td>2019-06</td>\n      <td>NaN</td>\n      <td>NaN</td>\n      <td>NaN</td>\n      <td>NaN</td>\n      <td>NaN</td>\n      <td>NaN</td>\n      <td>NaN</td>\n      <td>NaN</td>\n      <td>NaN</td>\n      <td>...</td>\n      <td>103,2</td>\n      <td>103,2</td>\n      <td>103,2</td>\n      <td>103,2</td>\n      <td>103,2</td>\n      <td>103,2</td>\n      <td>103,2</td>\n      <td>103,2</td>\n      <td>103,2</td>\n      <td>103,2</td>\n    </tr>\n    <tr>\n      <th>18</th>\n      <td>2019-09</td>\n      <td>NaN</td>\n      <td>NaN</td>\n      <td>NaN</td>\n      <td>NaN</td>\n      <td>NaN</td>\n      <td>NaN</td>\n      <td>NaN</td>\n      <td>NaN</td>\n      <td>NaN</td>\n      <td>...</td>\n      <td>104,4</td>\n      <td>104,4</td>\n      <td>104,4</td>\n      <td>104,4</td>\n      <td>104,4</td>\n      <td>104,4</td>\n      <td>104,4</td>\n      <td>104,4</td>\n      <td>104,4</td>\n      <td>104,4</td>\n    </tr>\n    <tr>\n      <th>19</th>\n      <td>2019-12</td>\n      <td>NaN</td>\n      <td>NaN</td>\n      <td>NaN</td>\n      <td>NaN</td>\n      <td>NaN</td>\n      <td>NaN</td>\n      <td>NaN</td>\n      <td>NaN</td>\n      <td>NaN</td>\n      <td>...</td>\n      <td>102,8</td>\n      <td>102,8</td>\n      <td>102,8</td>\n      <td>102,8</td>\n      <td>102,8</td>\n      <td>102,8</td>\n      <td>102,8</td>\n      <td>102,8</td>\n      <td>102,8</td>\n      <td>102,8</td>\n    </tr>\n    <tr>\n      <th>20</th>\n      <td>2020-03</td>\n      <td>NaN</td>\n      <td>NaN</td>\n      <td>NaN</td>\n      <td>NaN</td>\n      <td>NaN</td>\n      <td>NaN</td>\n      <td>NaN</td>\n      <td>NaN</td>\n      <td>NaN</td>\n      <td>...</td>\n      <td>103,2</td>\n      <td>103,2</td>\n      <td>103,2</td>\n      <td>103,2</td>\n      <td>103,2</td>\n      <td>103,2</td>\n      <td>103,2</td>\n      <td>103,2</td>\n      <td>103,2</td>\n      <td>103,2</td>\n    </tr>\n    <tr>\n      <th>21</th>\n      <td>2020-06</td>\n      <td>NaN</td>\n      <td>NaN</td>\n      <td>NaN</td>\n      <td>NaN</td>\n      <td>NaN</td>\n      <td>NaN</td>\n      <td>NaN</td>\n      <td>NaN</td>\n      <td>NaN</td>\n      <td>...</td>\n      <td>93,8</td>\n      <td>93,8</td>\n      <td>93,8</td>\n      <td>93,8</td>\n      <td>93,8</td>\n      <td>93,8</td>\n      <td>93,8</td>\n      <td>93,8</td>\n      <td>93,8</td>\n      <td>93,8</td>\n    </tr>\n    <tr>\n      <th>22</th>\n      <td>2020-09</td>\n      <td>NaN</td>\n      <td>NaN</td>\n      <td>NaN</td>\n      <td>NaN</td>\n      <td>NaN</td>\n      <td>NaN</td>\n      <td>NaN</td>\n      <td>NaN</td>\n      <td>NaN</td>\n      <td>...</td>\n      <td>95,7</td>\n      <td>95,7</td>\n      <td>95,7</td>\n      <td>95,7</td>\n      <td>95,7</td>\n      <td>95,7</td>\n      <td>95,7</td>\n      <td>95,7</td>\n      <td>95,7</td>\n      <td>95,7</td>\n    </tr>\n    <tr>\n      <th>23</th>\n      <td>2020-12</td>\n      <td>NaN</td>\n      <td>NaN</td>\n      <td>NaN</td>\n      <td>NaN</td>\n      <td>NaN</td>\n      <td>NaN</td>\n      <td>NaN</td>\n      <td>NaN</td>\n      <td>NaN</td>\n      <td>...</td>\n      <td>99,2</td>\n      <td>99,2</td>\n      <td>99,2</td>\n      <td>99,2</td>\n      <td>99,2</td>\n      <td>99,2</td>\n      <td>99,2</td>\n      <td>99,2</td>\n      <td>99,2</td>\n      <td>99,2</td>\n    </tr>\n    <tr>\n      <th>24</th>\n      <td>2021-03</td>\n      <td>NaN</td>\n      <td>NaN</td>\n      <td>NaN</td>\n      <td>NaN</td>\n      <td>NaN</td>\n      <td>NaN</td>\n      <td>NaN</td>\n      <td>NaN</td>\n      <td>NaN</td>\n      <td>...</td>\n      <td>99,7</td>\n      <td>99,7</td>\n      <td>99,5</td>\n      <td>99,5</td>\n      <td>99,5</td>\n      <td>99,5</td>\n      <td>99,5</td>\n      <td>99,5</td>\n      <td>99,5</td>\n      <td>99,5</td>\n    </tr>\n    <tr>\n      <th>25</th>\n      <td>2021-06</td>\n      <td>NaN</td>\n      <td>NaN</td>\n      <td>NaN</td>\n      <td>NaN</td>\n      <td>NaN</td>\n      <td>NaN</td>\n      <td>NaN</td>\n      <td>NaN</td>\n      <td>NaN</td>\n      <td>...</td>\n      <td>111,1</td>\n      <td>111,1</td>\n      <td>110,9</td>\n      <td>110,9</td>\n      <td>110,9</td>\n      <td>110,9</td>\n      <td>110,9</td>\n      <td>110,9</td>\n      <td>110,9</td>\n      <td>110,9</td>\n    </tr>\n    <tr>\n      <th>26</th>\n      <td>2021-09</td>\n      <td>NaN</td>\n      <td>NaN</td>\n      <td>NaN</td>\n      <td>NaN</td>\n      <td>NaN</td>\n      <td>NaN</td>\n      <td>NaN</td>\n      <td>NaN</td>\n      <td>NaN</td>\n      <td>...</td>\n      <td>107,1</td>\n      <td>107,1</td>\n      <td>107</td>\n      <td>107</td>\n      <td>107</td>\n      <td>107</td>\n      <td>107</td>\n      <td>107</td>\n      <td>107</td>\n      <td>107</td>\n    </tr>\n    <tr>\n      <th>27</th>\n      <td>2021-12</td>\n      <td>NaN</td>\n      <td>NaN</td>\n      <td>NaN</td>\n      <td>NaN</td>\n      <td>NaN</td>\n      <td>NaN</td>\n      <td>NaN</td>\n      <td>NaN</td>\n      <td>NaN</td>\n      <td>...</td>\n      <td>107,9</td>\n      <td>107,9</td>\n      <td>107,9</td>\n      <td>107,9</td>\n      <td>107,9</td>\n      <td>107,9</td>\n      <td>107,9</td>\n      <td>107,9</td>\n      <td>107,9</td>\n      <td>107,9</td>\n    </tr>\n    <tr>\n      <th>28</th>\n      <td>2022-03</td>\n      <td>NaN</td>\n      <td>NaN</td>\n      <td>NaN</td>\n      <td>NaN</td>\n      <td>NaN</td>\n      <td>NaN</td>\n      <td>NaN</td>\n      <td>NaN</td>\n      <td>NaN</td>\n      <td>...</td>\n      <td>105,1</td>\n      <td>105,1</td>\n      <td>105,1</td>\n      <td>105,1</td>\n      <td>105,1</td>\n      <td>105,1</td>\n      <td>105,1</td>\n      <td>105,1</td>\n      <td>105,1</td>\n      <td>106,2</td>\n    </tr>\n    <tr>\n      <th>29</th>\n      <td>2022-06</td>\n      <td>NaN</td>\n      <td>NaN</td>\n      <td>NaN</td>\n      <td>NaN</td>\n      <td>NaN</td>\n      <td>NaN</td>\n      <td>NaN</td>\n      <td>NaN</td>\n      <td>NaN</td>\n      <td>...</td>\n      <td>97,5</td>\n      <td>97,5</td>\n      <td>97,4</td>\n      <td>97,4</td>\n      <td>97,4</td>\n      <td>97,4</td>\n      <td>97,4</td>\n      <td>97,4</td>\n      <td>97,4</td>\n      <td>98,5</td>\n    </tr>\n    <tr>\n      <th>30</th>\n      <td>2022-09</td>\n      <td>NaN</td>\n      <td>NaN</td>\n      <td>NaN</td>\n      <td>NaN</td>\n      <td>NaN</td>\n      <td>NaN</td>\n      <td>NaN</td>\n      <td>NaN</td>\n      <td>NaN</td>\n      <td>...</td>\n      <td>98,7</td>\n      <td>98,7</td>\n      <td>98,8</td>\n      <td>98,8</td>\n      <td>98,8</td>\n      <td>98,8</td>\n      <td>98,8</td>\n      <td>98,8</td>\n      <td>98,8</td>\n      <td>99,7</td>\n    </tr>\n    <tr>\n      <th>31</th>\n      <td>2022-12</td>\n      <td>NaN</td>\n      <td>NaN</td>\n      <td>NaN</td>\n      <td>NaN</td>\n      <td>NaN</td>\n      <td>NaN</td>\n      <td>NaN</td>\n      <td>NaN</td>\n      <td>NaN</td>\n      <td>...</td>\n      <td>NaN</td>\n      <td>NaN</td>\n      <td>97</td>\n      <td>97</td>\n      <td>97</td>\n      <td>97</td>\n      <td>97</td>\n      <td>97</td>\n      <td>97</td>\n      <td>98,6</td>\n    </tr>\n    <tr>\n      <th>32</th>\n      <td>2023-03</td>\n      <td>NaN</td>\n      <td>NaN</td>\n      <td>NaN</td>\n      <td>NaN</td>\n      <td>NaN</td>\n      <td>NaN</td>\n      <td>NaN</td>\n      <td>NaN</td>\n      <td>NaN</td>\n      <td>...</td>\n      <td>NaN</td>\n      <td>NaN</td>\n      <td>NaN</td>\n      <td>NaN</td>\n      <td>NaN</td>\n      <td>99,1</td>\n      <td>99,1</td>\n      <td>99,1</td>\n      <td>99,1</td>\n      <td>98,8</td>\n    </tr>\n    <tr>\n      <th>33</th>\n      <td>2023-06</td>\n      <td>NaN</td>\n      <td>NaN</td>\n      <td>NaN</td>\n      <td>NaN</td>\n      <td>NaN</td>\n      <td>NaN</td>\n      <td>NaN</td>\n      <td>NaN</td>\n      <td>NaN</td>\n      <td>...</td>\n      <td>NaN</td>\n      <td>NaN</td>\n      <td>NaN</td>\n      <td>NaN</td>\n      <td>NaN</td>\n      <td>NaN</td>\n      <td>NaN</td>\n      <td>NaN</td>\n      <td>106,3</td>\n      <td>105,8</td>\n    </tr>\n  </tbody>\n</table>\n<p>34 rows × 80 columns</p>\n</div>"
     },
     "execution_count": 153,
     "metadata": {},
     "output_type": "execute_result"
    }
   ],
   "source": [
    "data"
   ],
   "metadata": {
    "collapsed": false,
    "pycharm": {
     "name": "#%%\n"
    }
   }
  },
  {
   "cell_type": "markdown",
   "source": [
    "## Частота пересмотров"
   ],
   "metadata": {
    "collapsed": false,
    "pycharm": {
     "name": "#%% md\n"
    }
   }
  },
  {
   "cell_type": "code",
   "execution_count": 219,
   "outputs": [],
   "source": [
    "def count_frequency(dat, period, diff, change='change'):\n",
    "    second_column_name = dat.columns[1]\n",
    "    try:\n",
    "        row_index = dat[dat.iloc[:, 0] == second_column_name].index[0]\n",
    "    except:\n",
    "        second_column_name = dat.columns[3]\n",
    "        row_index = dat[dat.iloc[:, 0] == second_column_name].index[0]\n",
    "\n",
    "    num_rows = dat.shape[0]\n",
    "    column_names = dat.columns\n",
    "\n",
    "    changed, not_changed = 0, 0\n",
    "\n",
    "    for index, row in dat.iloc[row_index:num_rows+1].iterrows():\n",
    "        first_non_nan_index = row[1:].first_valid_index()\n",
    "\n",
    "        if first_non_nan_index in column_names:\n",
    "            current_index = column_names.get_loc(first_non_nan_index)\n",
    "            if current_index < len(column_names) - period:\n",
    "                next_column = column_names[current_index + period]\n",
    "            else:\n",
    "                next_column = None\n",
    "\n",
    "            if next_column:\n",
    "                next_index = column_names.get_loc(next_column)\n",
    "                if row[next_column] == row[next_index-diff]:\n",
    "                    #print(next_column, ' ', column_names[next_index-diff])\n",
    "                    not_changed += 1\n",
    "                else:\n",
    "                    if next_column != change:\n",
    "                        #print(next_column, ' ', column_names[next_index-diff])\n",
    "                        if period == 12:\n",
    "                            print(row[0])\n",
    "                        changed += 1\n",
    "\n",
    "    return changed, not_changed"
   ],
   "metadata": {
    "collapsed": false,
    "pycharm": {
     "name": "#%%\n"
    }
   }
  },
  {
   "cell_type": "code",
   "execution_count": 220,
   "outputs": [],
   "source": [
    "def gather_frequences(dat, max_period, diff, change='change'):\n",
    "    frequences = list()\n",
    "    if diff > 1:\n",
    "        steps = range(diff, max_period+1, diff)\n",
    "    else:\n",
    "        steps = range(1, max_period+1, diff)\n",
    "\n",
    "    for i in steps:\n",
    "        ch, nch = count_frequency(dat, i, diff, change='change')\n",
    "        frequences.append(ch/(ch+nch))\n",
    "    return steps, frequences"
   ],
   "metadata": {
    "collapsed": false,
    "pycharm": {
     "name": "#%%\n"
    }
   }
  },
  {
   "cell_type": "code",
   "execution_count": 221,
   "outputs": [],
   "source": [
    "data = pd.read_csv('GDP.csv', sep=',')"
   ],
   "metadata": {
    "collapsed": false,
    "pycharm": {
     "name": "#%%\n"
    }
   }
  },
  {
   "cell_type": "code",
   "execution_count": 222,
   "outputs": [
    {
     "name": "stdout",
     "output_type": "stream",
     "text": [
      "2002-03\n",
      "2002-12\n",
      "2003-03\n",
      "2003-12\n",
      "2004-03\n",
      "2005-03\n",
      "2005-12\n",
      "2006-03\n",
      "2006-12\n",
      "2007-03\n",
      "2008-03\n",
      "2008-12\n",
      "2009-03\n",
      "2009-09\n",
      "2009-12\n",
      "2010-03\n",
      "2010-12\n",
      "2011-03\n",
      "2012-03\n",
      "2012-12\n",
      "2013-03\n",
      "2014-03\n",
      "2014-12\n",
      "2015-03\n",
      "2015-12\n",
      "2016-03\n",
      "2016-12\n",
      "2017-12\n",
      "2018-03\n",
      "2018-12\n",
      "2019-03\n",
      "2020-03\n",
      "2020-12\n",
      "2021-03\n",
      "2021-12\n",
      "2022-03\n"
     ]
    }
   ],
   "source": [
    "x, fr = gather_frequences(data, 36, 3, change='change')"
   ],
   "metadata": {
    "collapsed": false,
    "pycharm": {
     "name": "#%%\n"
    }
   }
  },
  {
   "cell_type": "code",
   "execution_count": 203,
   "outputs": [
    {
     "data": {
      "text/plain": "    month  frequency\n0       3   0.400000\n1       6   0.291667\n2       9   0.304348\n3      12   0.272727\n4      15   0.380952\n5      18   0.300000\n6      21   0.210526\n7      24   0.055556\n8      27   0.058824\n9      30   0.062500\n10     33   0.066667\n11     36   0.071429",
      "text/html": "<div>\n<style scoped>\n    .dataframe tbody tr th:only-of-type {\n        vertical-align: middle;\n    }\n\n    .dataframe tbody tr th {\n        vertical-align: top;\n    }\n\n    .dataframe thead th {\n        text-align: right;\n    }\n</style>\n<table border=\"1\" class=\"dataframe\">\n  <thead>\n    <tr style=\"text-align: right;\">\n      <th></th>\n      <th>month</th>\n      <th>frequency</th>\n    </tr>\n  </thead>\n  <tbody>\n    <tr>\n      <th>0</th>\n      <td>3</td>\n      <td>0.400000</td>\n    </tr>\n    <tr>\n      <th>1</th>\n      <td>6</td>\n      <td>0.291667</td>\n    </tr>\n    <tr>\n      <th>2</th>\n      <td>9</td>\n      <td>0.304348</td>\n    </tr>\n    <tr>\n      <th>3</th>\n      <td>12</td>\n      <td>0.272727</td>\n    </tr>\n    <tr>\n      <th>4</th>\n      <td>15</td>\n      <td>0.380952</td>\n    </tr>\n    <tr>\n      <th>5</th>\n      <td>18</td>\n      <td>0.300000</td>\n    </tr>\n    <tr>\n      <th>6</th>\n      <td>21</td>\n      <td>0.210526</td>\n    </tr>\n    <tr>\n      <th>7</th>\n      <td>24</td>\n      <td>0.055556</td>\n    </tr>\n    <tr>\n      <th>8</th>\n      <td>27</td>\n      <td>0.058824</td>\n    </tr>\n    <tr>\n      <th>9</th>\n      <td>30</td>\n      <td>0.062500</td>\n    </tr>\n    <tr>\n      <th>10</th>\n      <td>33</td>\n      <td>0.066667</td>\n    </tr>\n    <tr>\n      <th>11</th>\n      <td>36</td>\n      <td>0.071429</td>\n    </tr>\n  </tbody>\n</table>\n</div>"
     },
     "execution_count": 203,
     "metadata": {},
     "output_type": "execute_result"
    }
   ],
   "source": [
    "pd.DataFrame({'month': x, 'frequency': fr})"
   ],
   "metadata": {
    "collapsed": false,
    "pycharm": {
     "name": "#%%\n"
    }
   }
  },
  {
   "cell_type": "code",
   "execution_count": 125,
   "outputs": [
    {
     "data": {
      "text/plain": "<Figure size 640x480 with 1 Axes>",
      "image/png": "[encoded data removed]"
     },
     "metadata": {},
     "output_type": "display_data"
    }
   ],
   "source": [
    "plt.plot(x, fr)\n",
    "\n",
    "# Add labels and title to the plot\n",
    "plt.xlabel('X-axis')\n",
    "plt.ylabel('Y-axis')\n",
    "plt.title('Line Graph')\n",
    "plt.xticks(x)\n",
    "\n",
    "# Display the plot\n",
    "plt.show()"
   ],
   "metadata": {
    "collapsed": false,
    "pycharm": {
     "name": "#%%\n"
    }
   }
  },
  {
   "cell_type": "code",
   "execution_count": 12,
   "outputs": [
    {
     "name": "stdout",
     "output_type": "stream",
     "text": [
      "2014-12\n"
     ]
    },
    {
     "ename": "TypeError",
     "evalue": "can only concatenate str (not \"int\") to str",
     "output_type": "error",
     "traceback": [
      "\u001B[1;31m---------------------------------------------------------------------------\u001B[0m",
      "\u001B[1;31mTypeError\u001B[0m                                 Traceback (most recent call last)",
      "Cell \u001B[1;32mIn[12], line 9\u001B[0m\n\u001B[0;32m      7\u001B[0m \u001B[38;5;66;03m# Add 2 to the index to account for the offset from column 2 onwards\u001B[39;00m\n\u001B[0;32m      8\u001B[0m \u001B[38;5;28;01mif\u001B[39;00m first_non_nan_index \u001B[38;5;129;01mis\u001B[39;00m \u001B[38;5;129;01mnot\u001B[39;00m \u001B[38;5;28;01mNone\u001B[39;00m:\n\u001B[1;32m----> 9\u001B[0m     \u001B[43mfirst_non_nan_index\u001B[49m\u001B[43m \u001B[49m\u001B[38;5;241;43m+\u001B[39;49m\u001B[38;5;241;43m=\u001B[39;49m\u001B[43m \u001B[49m\u001B[38;5;241;43m2\u001B[39;49m\n\u001B[0;32m     11\u001B[0m \u001B[38;5;28mprint\u001B[39m(\u001B[38;5;124m\"\u001B[39m\u001B[38;5;124mIndex of first non-NaN value:\u001B[39m\u001B[38;5;124m\"\u001B[39m, first_non_nan_index)\n",
      "\u001B[1;31mTypeError\u001B[0m: can only concatenate str (not \"int\") to str"
     ]
    }
   ],
   "source": [
    "subset = data.iloc[3, 1:]\n",
    "\n",
    "# Find the index of the first non-NaN value\n",
    "first_non_nan_index = subset.first_valid_index()\n",
    "print(first_non_nan_index)\n",
    "\n",
    "# Add 2 to the index to account for the offset from column 2 onwards\n",
    "if first_non_nan_index is not None:\n",
    "    first_non_nan_index += 2\n",
    "\n",
    "print(\"Index of first non-NaN value:\", first_non_nan_index)"
   ],
   "metadata": {
    "collapsed": false,
    "pycharm": {
     "name": "#%%\n"
    }
   }
  },
  {
   "cell_type": "markdown",
   "source": [
    "## Магнитуда пересмотров через определенный период"
   ],
   "metadata": {
    "collapsed": false,
    "pycharm": {
     "name": "#%% md\n"
    }
   }
  },
  {
   "cell_type": "code",
   "execution_count": 141,
   "outputs": [],
   "source": [
    "def find_change(dat, period):\n",
    "    second_column_name = dat.columns[1]\n",
    "    try:\n",
    "        row_index = dat[dat.iloc[:, 0] == second_column_name].index[0]\n",
    "    except:\n",
    "        second_column_name = dat.columns[3]\n",
    "        row_index = dat[dat.iloc[:, 0] == second_column_name].index[0]\n",
    "\n",
    "    num_rows = dat.shape[0]\n",
    "    num_columns = dat.shape[1]\n",
    "    column_names = dat.columns\n",
    "\n",
    "    periods = list()\n",
    "    change = list()\n",
    "\n",
    "    for index, row in dat.iloc[row_index:num_rows+1].iterrows():\n",
    "        first_non_nan_index = row[1:].first_valid_index()\n",
    "\n",
    "        if first_non_nan_index in column_names:\n",
    "            current_index = column_names.get_loc(first_non_nan_index)\n",
    "            if current_index < len(column_names) - period:\n",
    "                next_column = column_names[current_index + period]\n",
    "\n",
    "                periods.append(row[0])\n",
    "                change.append(float(row[next_column].replace(',', '.')) - float(row[current_index].replace(',', '.')))\n",
    "            else:\n",
    "                next_column = None\n",
    "\n",
    "    return pd.DataFrame({'month': periods, 'change': change})"
   ],
   "metadata": {
    "collapsed": false,
    "pycharm": {
     "name": "#%%\n"
    }
   }
  },
  {
   "cell_type": "code",
   "execution_count": 163,
   "outputs": [],
   "source": [
    "data = pd.read_csv('RMINCOME_LONG.csv', sep=',')"
   ],
   "metadata": {
    "collapsed": false,
    "pycharm": {
     "name": "#%%\n"
    }
   }
  },
  {
   "cell_type": "code",
   "execution_count": 164,
   "outputs": [
    {
     "data": {
      "text/plain": "      month  change\n0   2014-03    -0.1\n1   2014-06    -1.3\n2   2014-09     0.4\n3   2014-12     0.4\n4   2015-03     0.0\n5   2015-06     0.2\n6   2015-09    -0.8\n7   2015-12    -0.2\n8   2016-03     0.4\n9   2016-06    -0.6\n10  2016-09    -0.8\n11  2016-12    -0.4\n12  2017-03     0.0\n13  2017-06    -0.2\n14  2017-09    -1.3\n15  2017-12     0.1\n16  2018-03    -0.1\n17  2018-06    -0.7\n18  2018-09     0.3\n19  2018-12    -1.8\n20  2019-03     0.6\n21  2019-06     1.0\n22  2019-09     0.2\n23  2019-12     0.6\n24  2020-03     0.8\n25  2020-06    -0.3\n26  2020-09    -0.5\n27  2020-12     0.5\n28  2021-03    -0.7\n29  2021-06     0.2\n30  2021-09     0.6\n31  2021-12    -0.8\n32  2022-03    -0.3\n33  2022-06    -0.3\n34  2022-09    -1.9\n35  2022-12    -1.0",
      "text/html": "<div>\n<style scoped>\n    .dataframe tbody tr th:only-of-type {\n        vertical-align: middle;\n    }\n\n    .dataframe tbody tr th {\n        vertical-align: top;\n    }\n\n    .dataframe thead th {\n        text-align: right;\n    }\n</style>\n<table border=\"1\" class=\"dataframe\">\n  <thead>\n    <tr style=\"text-align: right;\">\n      <th></th>\n      <th>month</th>\n      <th>change</th>\n    </tr>\n  </thead>\n  <tbody>\n    <tr>\n      <th>0</th>\n      <td>2014-03</td>\n      <td>-0.1</td>\n    </tr>\n    <tr>\n      <th>1</th>\n      <td>2014-06</td>\n      <td>-1.3</td>\n    </tr>\n    <tr>\n      <th>2</th>\n      <td>2014-09</td>\n      <td>0.4</td>\n    </tr>\n    <tr>\n      <th>3</th>\n      <td>2014-12</td>\n      <td>0.4</td>\n    </tr>\n    <tr>\n      <th>4</th>\n      <td>2015-03</td>\n      <td>0.0</td>\n    </tr>\n    <tr>\n      <th>5</th>\n      <td>2015-06</td>\n      <td>0.2</td>\n    </tr>\n    <tr>\n      <th>6</th>\n      <td>2015-09</td>\n      <td>-0.8</td>\n    </tr>\n    <tr>\n      <th>7</th>\n      <td>2015-12</td>\n      <td>-0.2</td>\n    </tr>\n    <tr>\n      <th>8</th>\n      <td>2016-03</td>\n      <td>0.4</td>\n    </tr>\n    <tr>\n      <th>9</th>\n      <td>2016-06</td>\n      <td>-0.6</td>\n    </tr>\n    <tr>\n      <th>10</th>\n      <td>2016-09</td>\n      <td>-0.8</td>\n    </tr>\n    <tr>\n      <th>11</th>\n      <td>2016-12</td>\n      <td>-0.4</td>\n    </tr>\n    <tr>\n      <th>12</th>\n      <td>2017-03</td>\n      <td>0.0</td>\n    </tr>\n    <tr>\n      <th>13</th>\n      <td>2017-06</td>\n      <td>-0.2</td>\n    </tr>\n    <tr>\n      <th>14</th>\n      <td>2017-09</td>\n      <td>-1.3</td>\n    </tr>\n    <tr>\n      <th>15</th>\n      <td>2017-12</td>\n      <td>0.1</td>\n    </tr>\n    <tr>\n      <th>16</th>\n      <td>2018-03</td>\n      <td>-0.1</td>\n    </tr>\n    <tr>\n      <th>17</th>\n      <td>2018-06</td>\n      <td>-0.7</td>\n    </tr>\n    <tr>\n      <th>18</th>\n      <td>2018-09</td>\n      <td>0.3</td>\n    </tr>\n    <tr>\n      <th>19</th>\n      <td>2018-12</td>\n      <td>-1.8</td>\n    </tr>\n    <tr>\n      <th>20</th>\n      <td>2019-03</td>\n      <td>0.6</td>\n    </tr>\n    <tr>\n      <th>21</th>\n      <td>2019-06</td>\n      <td>1.0</td>\n    </tr>\n    <tr>\n      <th>22</th>\n      <td>2019-09</td>\n      <td>0.2</td>\n    </tr>\n    <tr>\n      <th>23</th>\n      <td>2019-12</td>\n      <td>0.6</td>\n    </tr>\n    <tr>\n      <th>24</th>\n      <td>2020-03</td>\n      <td>0.8</td>\n    </tr>\n    <tr>\n      <th>25</th>\n      <td>2020-06</td>\n      <td>-0.3</td>\n    </tr>\n    <tr>\n      <th>26</th>\n      <td>2020-09</td>\n      <td>-0.5</td>\n    </tr>\n    <tr>\n      <th>27</th>\n      <td>2020-12</td>\n      <td>0.5</td>\n    </tr>\n    <tr>\n      <th>28</th>\n      <td>2021-03</td>\n      <td>-0.7</td>\n    </tr>\n    <tr>\n      <th>29</th>\n      <td>2021-06</td>\n      <td>0.2</td>\n    </tr>\n    <tr>\n      <th>30</th>\n      <td>2021-09</td>\n      <td>0.6</td>\n    </tr>\n    <tr>\n      <th>31</th>\n      <td>2021-12</td>\n      <td>-0.8</td>\n    </tr>\n    <tr>\n      <th>32</th>\n      <td>2022-03</td>\n      <td>-0.3</td>\n    </tr>\n    <tr>\n      <th>33</th>\n      <td>2022-06</td>\n      <td>-0.3</td>\n    </tr>\n    <tr>\n      <th>34</th>\n      <td>2022-09</td>\n      <td>-1.9</td>\n    </tr>\n    <tr>\n      <th>35</th>\n      <td>2022-12</td>\n      <td>-1.0</td>\n    </tr>\n  </tbody>\n</table>\n</div>"
     },
     "execution_count": 164,
     "metadata": {},
     "output_type": "execute_result"
    }
   ],
   "source": [
    "find_change(data, 6)"
   ],
   "metadata": {
    "collapsed": false,
    "pycharm": {
     "name": "#%%\n"
    }
   }
  },
  {
   "cell_type": "markdown",
   "source": [
    "## Магнитуда пересмотров"
   ],
   "metadata": {
    "collapsed": false,
    "pycharm": {
     "name": "#%% md\n"
    }
   }
  },
  {
   "cell_type": "code",
   "execution_count": null,
   "outputs": [],
   "source": [
    "def count_magnitude(dat, period, diff, change='change'):\n",
    "    second_column_name = dat.columns[1]\n",
    "    try:\n",
    "        row_index = dat[dat.iloc[:, 0] == second_column_name].index[0]\n",
    "    except:\n",
    "        second_column_name = dat.columns[3]\n",
    "        row_index = dat[dat.iloc[:, 0] == second_column_name].index[0]\n",
    "\n",
    "    num_rows = dat.shape[0]\n",
    "    num_columns = dat.shape[1]\n",
    "    column_names = dat.columns\n",
    "\n",
    "    plus, minus = 0, 0\n",
    "\n",
    "    for index, row in dat.iloc[row_index:num_rows+1].iterrows():\n",
    "        first_non_nan_index = row[1:].first_valid_index()\n",
    "\n",
    "        if first_non_nan_index in column_names:\n",
    "            current_index = column_names.get_loc(first_non_nan_index)\n",
    "            if current_index < len(column_names) - period:\n",
    "                next_column = column_names[current_index + period]\n",
    "            else:\n",
    "                next_column = None\n",
    "\n",
    "            if next_column:\n",
    "                next_index = column_names.get_loc(next_column)\n",
    "                if row[next_column] == row[next_index-diff]:\n",
    "                    not_changed += 1\n",
    "                else:\n",
    "                    if next_column != change:\n",
    "                        changed += 1\n",
    "\n",
    "    return changed, not_changed"
   ],
   "metadata": {
    "collapsed": false,
    "pycharm": {
     "name": "#%%\n"
    }
   }
  }
 ],
 "metadata": {
  "kernelspec": {
   "display_name": "Python 3",
   "language": "python",
   "name": "python3"
  },
  "language_info": {
   "codemirror_mode": {
    "name": "ipython",
    "version": 2
   },
   "file_extension": ".py",
   "mimetype": "text/x-python",
   "name": "python",
   "nbconvert_exporter": "python",
   "pygments_lexer": "ipython2",
   "version": "2.7.6"
  }
 },
 "nbformat": 4,
 "nbformat_minor": 0
}